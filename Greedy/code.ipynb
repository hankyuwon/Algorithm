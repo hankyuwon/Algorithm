{
 "cells": [
  {
   "cell_type": "markdown",
   "metadata": {},
   "source": [
    "### 보물\n",
    "#### 실버 4  / Greedy\n",
    "#### https://www.acmicpc.net/problem/1026"
   ]
  },
  {
   "cell_type": "code",
   "execution_count": 107,
   "metadata": {},
   "outputs": [
    {
     "name": "stdout",
     "output_type": "stream",
     "text": [
      "528\n"
     ]
    }
   ],
   "source": [
    "n = input()\n",
    "\n",
    "a = list(map(int, input().split()))\n",
    "b = list(map(int, input().split()))\n",
    "\n",
    "sum = 0\n",
    "\n",
    "for i in range(int(n)):\n",
    "    sum += (sorted(a)[i]) * (sorted(b, reverse=True)[i])\n",
    "    \n",
    "print(sum)"
   ]
  },
  {
   "cell_type": "code",
   "execution_count": 113,
   "metadata": {},
   "outputs": [],
   "source": [
    "# map(변환 함수, 반복 가능한 객체) 를 통해 객체 내의 자료형을 변경할 수 있음.\n",
    "\n",
    "# ex) map(int, list) -> list 내 데이터를 모두 int형으로 변환\n",
    "\n",
    "# sorted 함수를 사용해 정렬된 값을 print해볼 수 있음 (reverse 파라미터를 통해 반대로 정렬 가능)"
   ]
  },
  {
   "cell_type": "markdown",
   "metadata": {},
   "source": [
    "### 로프\n",
    "#### 실버 4 / Greedy\n",
    "#### https://www.acmicpc.net/problem/2217"
   ]
  },
  {
   "cell_type": "code",
   "execution_count": 211,
   "metadata": {},
   "outputs": [
    {
     "name": "stdout",
     "output_type": "stream",
     "text": [
      "20\n"
     ]
    }
   ],
   "source": [
    "n = int(input())\n",
    "\n",
    "lop = []\n",
    "result = []\n",
    "\n",
    "for i in range(n):\n",
    "    lop.append(int(input()))\n",
    "\n",
    "lop.sort()\n",
    "\n",
    "for i in range(n):\n",
    "    result.append(lop[i]*(n-i))\n",
    "\n",
    "result.sort()\n",
    "print(result[-1])"
   ]
  },
  {
   "cell_type": "markdown",
   "metadata": {},
   "source": [
    "### 소트\n",
    "### 골드 5 / Greeddy\n",
    "### https://www.acmicpc.net/problem/1083"
   ]
  },
  {
   "cell_type": "code",
   "execution_count": 61,
   "metadata": {},
   "outputs": [
    {
     "name": "stdout",
     "output_type": "stream",
     "text": [
      "20 19 18 17 16 15 14 13 12 11\n"
     ]
    }
   ],
   "source": [
    "n = int(input()) # 배열의 길이\n",
    "\n",
    "lop = list(map(int,input().split())) # 배열 안의 원소\n",
    "\n",
    "s = int(input()) # 최대 교환 갯수\n",
    "\n",
    "start = 0\n",
    "\n",
    "while s>0:\n",
    "    try:\n",
    "        _max_value, _max_index = max(lop[start:start+s+1]), lop.index(max(lop[start:start+s+1]))\n",
    "    \n",
    "        lop.pop(_max_index)\n",
    "        lop.insert(start, _max_value)\n",
    "        \n",
    "        s = s - (_max_index - start)\n",
    "        start += 1\n",
    "    except Exception:\n",
    "        break\n",
    "    \n",
    "print(*lop)"
   ]
  },
  {
   "cell_type": "code",
   "execution_count": 62,
   "metadata": {},
   "outputs": [],
   "source": [
    "# ValueError 로 인해 에러 발생시\n",
    "# Try - Except 구문을 추가하여 해결 가능"
   ]
  }
 ],
 "metadata": {
  "kernelspec": {
   "display_name": "Python 3",
   "language": "python",
   "name": "python3"
  },
  "language_info": {
   "codemirror_mode": {
    "name": "ipython",
    "version": 3
   },
   "file_extension": ".py",
   "mimetype": "text/x-python",
   "name": "python",
   "nbconvert_exporter": "python",
   "pygments_lexer": "ipython3",
   "version": "3.10.11"
  }
 },
 "nbformat": 4,
 "nbformat_minor": 2
}
