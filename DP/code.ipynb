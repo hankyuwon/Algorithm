{
 "cells": [
  {
   "cell_type": "markdown",
   "metadata": {},
   "source": [
    "## 1, 2, 3 더하기\n",
    "### 실버 3\n",
    "### https://www.acmicpc.net/problem/9095"
   ]
  },
  {
   "cell_type": "code",
   "execution_count": null,
   "metadata": {},
   "outputs": [],
   "source": [
    "def response(x):\n",
    "    dp = [0, 1, 2, 4]\n",
    "\n",
    "    res = 0\n",
    "    \n",
    "    if x <= 3:\n",
    "        res = dp[x]\n",
    "        print(res)\n",
    "        return\n",
    "    \n",
    "    else:\n",
    "        for i in range(3,x):\n",
    "            dp.append(dp[i] + dp[i-1] + dp[i-2])\n",
    "        \n",
    "        res = dp[x]\n",
    "        print(res)\n",
    "        return\n",
    "        \n",
    "\n",
    "T = int(input())\n",
    "for _ in range(T):\n",
    "    n = int(input())\n",
    "    response(n)"
   ]
  },
  {
   "cell_type": "markdown",
   "metadata": {},
   "source": [
    "## RGB거리\n",
    "### 실버 1\n",
    "### https://www.acmicpc.net/problem/1149"
   ]
  },
  {
   "cell_type": "code",
   "execution_count": 31,
   "metadata": {},
   "outputs": [],
   "source": [
    "N = int(input())\n",
    "\n",
    "dp = [[0]*3 for _ in range(N)]\n",
    "\n",
    "cost = []\n",
    "\n",
    "for _ in range(N):\n",
    "    cost.append(list(map(int,input().split())))\n",
    "\n",
    "dp[0][0], dp[0][1], dp[0][2] = cost[0][0], cost[0][1], cost[0][2]\n",
    "\n",
    "for i in range(1,N):\n",
    "    dp[i][0] = min(dp[i-1][1] + cost[i][0], dp[i-1][2] + cost[i][0])\n",
    "    dp[i][1] = min(dp[i-1][0] + cost[i][1], dp[i-1][2] + cost[i][1])\n",
    "    dp[i][2] = min(dp[i-1][0] + cost[i][2], dp[i-1][1] + cost[i][2])\n",
    "    \n",
    "print(min(dp[-1]))"
   ]
  }
 ],
 "metadata": {
  "kernelspec": {
   "display_name": "kw",
   "language": "python",
   "name": "python3"
  },
  "language_info": {
   "codemirror_mode": {
    "name": "ipython",
    "version": 3
   },
   "file_extension": ".py",
   "mimetype": "text/x-python",
   "name": "python",
   "nbconvert_exporter": "python",
   "pygments_lexer": "ipython3",
   "version": "3.10.11"
  }
 },
 "nbformat": 4,
 "nbformat_minor": 2
}
